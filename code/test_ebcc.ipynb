{
 "cells": [
  {
   "cell_type": "code",
   "execution_count": 1,
   "metadata": {},
   "outputs": [],
   "source": [
    "import numpy as np\n",
    "import pandas as pd\n",
    "\n",
    "def get_acc(predictions, df_truth):\n",
    "    score = (predictions == predictions.max(axis=1, keepdims=True)).astype(np.float)\n",
    "    score /= score.sum(axis=1, keepdims=True)\n",
    "    return score[df_truth.item.values, df_truth.truth.values].sum() / df_truth.shape[0]"
   ]
  },
  {
   "cell_type": "code",
   "execution_count": 2,
   "metadata": {
    "scrolled": true
   },
   "outputs": [],
   "source": [
    "data_path = '../data/'\n",
    "datasets = [\n",
    "#     ('crowdscale2013/sentiment',   'senti'),\n",
    "#     ('crowdscale2013/fact_eval',   'fact'),\n",
    "    ('active-crowd-toolkit/CF',           'CF'),\n",
    "    ('active-crowd-toolkit/CF_amt',       'CF_amt'),\n",
    "    ('active-crowd-toolkit/MS',           'MS'),\n",
    "    ('active-crowd-toolkit/SP',           'SP'),\n",
    "    ('active-crowd-toolkit/SP_amt',       'SP_amt'),\n",
    "    ('active-crowd-toolkit/ZenCrowd_all', 'ZC_all'),\n",
    "    ('active-crowd-toolkit/ZenCrowd_in',  'ZC_in'),\n",
    "    ('active-crowd-toolkit/ZenCrowd_us',  'ZC_us'),\n",
    "#     ('crowd_truth_inference/d_Duck Identification',            'duck'),\n",
    "    ('crowd_truth_inference/d_jn-product',                     'product'),\n",
    "    ('crowd_truth_inference/d_sentiment',                      'senti_1k'),\n",
    "#     ('crowd_truth_inference/s4_Dog data',                      'dog'),\n",
    "    ('crowd_truth_inference/s4_Face Sentiment Identification', 'face'),\n",
    "#     ('crowd_truth_inference/s4_Relevance',                     'rel'),\n",
    "    ('crowd_truth_inference/s5_AdultContent',                  'adult'),\n",
    "    ('SpectralMethodsMeetEM/bluebird', 'bird'),\n",
    "    ('SpectralMethodsMeetEM/dog',      'dog'),\n",
    "    ('SpectralMethodsMeetEM/rte',      'rte'),\n",
    "    ('SpectralMethodsMeetEM/trec',     'trec'),\n",
    "    ('SpectralMethodsMeetEM/web',      'web')\n",
    "]"
   ]
  },
  {
   "cell_type": "code",
   "execution_count": 3,
   "metadata": {},
   "outputs": [],
   "source": [
    "from ebcc import ebcc_vb"
   ]
  },
  {
   "cell_type": "code",
   "execution_count": 8,
   "metadata": {},
   "outputs": [
    {
     "name": "stdout",
     "output_type": "stream",
     "text": [
      "CF           0.883333    1542552    -157474\n",
      "CF_amt       0.856667   15552534   -42861.5\n",
      "MS           0.787143   28234435     -86977\n",
      "SP           0.915183   75268953   -23261.1\n",
      "SP_amt          0.944   25086090   -7144.35\n",
      "ZC_all       0.862255   39386717   -13649.4\n",
      "ZC_in        0.780882   24558634   -8246.29\n",
      "ZC_us        0.912255   42924186   -8651.96\n",
      "product      0.934937   83777558     -17345\n",
      "senti_1k        0.961   92224614   -12174.8\n",
      "face         0.635274   38241575   -10186.9\n",
      "adult        0.747748   71066617    -210660\n",
      "bird         0.861111   45725321   -3134.56\n",
      "dog          0.840149   68786906   -27934.8\n",
      "rte           0.93125   72551958   -9075.35\n",
      "trec         0.703736   42364931   -70293.2\n",
      "web          0.768564   34424996   -83622.6\n",
      "0.8426756821015219\n",
      "Wall time: 18min 5s\n"
     ]
    }
   ],
   "source": [
    "%%time\n",
    "records = []\n",
    "for dataset, abbrev in datasets:\n",
    "    df_label = pd.read_csv(data_path + dataset + '/label.csv')\n",
    "    df_label = df_label.drop_duplicates(keep='first')\n",
    "    \n",
    "    elbos = []\n",
    "    seeds = []\n",
    "    results = []\n",
    "    for _ in range(40):\n",
    "        seed = np.random.randint(1e8)\n",
    "        prediction, elbo = ebcc_vb(df_label.values, num_groups=10, seed=seed, empirical_prior=True)\n",
    "        elbos.append(elbo)\n",
    "        results.append((prediction, seed, elbo))\n",
    "        \n",
    "    prediction_ik, seed, elbo = results[np.argmax(elbos)]\n",
    "        \n",
    "    df_truth = pd.read_csv(data_path + dataset + '/truth.csv')\n",
    "    records.append((abbrev, get_acc(prediction_ik, df_truth), seed, elbo))    \n",
    "    print('%-10s %10g %10d %10g'%records[-1])\n",
    "    \n",
    "df = pd.DataFrame.from_records(records, columns=['dataset', 'accuracy', 'seed', 'elbo'])\n",
    "print(df['accuracy'].mean())\n",
    "# display(df)"
   ]
  }
 ],
 "metadata": {
  "kernelspec": {
   "display_name": "Python 3",
   "language": "python",
   "name": "python3"
  },
  "language_info": {
   "codemirror_mode": {
    "name": "ipython",
    "version": 3
   },
   "file_extension": ".py",
   "mimetype": "text/x-python",
   "name": "python",
   "nbconvert_exporter": "python",
   "pygments_lexer": "ipython3",
   "version": "3.6.6"
  }
 },
 "nbformat": 4,
 "nbformat_minor": 2
}
